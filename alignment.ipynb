{
 "cells": [
  {
   "cell_type": "markdown",
   "metadata": {},
   "source": [
    "# Alignment of Wikipedia Editors"
   ]
  },
  {
   "cell_type": "markdown",
   "metadata": {},
   "source": [
    "## Workbench"
   ]
  },
  {
   "cell_type": "code",
   "execution_count": null,
   "metadata": {},
   "outputs": [],
   "source": [
    "import glob\n",
    "import subprocess\n",
    "import csv\n",
    "import os\n",
    "from collections import defaultdict, Counter\n",
    "from multiprocessing import Pool\n",
    "from itertools import groupby\n",
    "from operator import itemgetter\n",
    "import pickle"
   ]
  },
  {
   "cell_type": "markdown",
   "metadata": {},
   "source": [
    "## Data cleaning"
   ]
  },
  {
   "cell_type": "markdown",
   "metadata": {},
   "source": [
    "Remove duplicate pages in both liberal and conservative corpora"
   ]
  },
  {
   "cell_type": "code",
   "execution_count": null,
   "metadata": {},
   "outputs": [],
   "source": [
    "b=set([i.split('/')[-1] for i in glob.glob(\"Data/liberal_articles/*.7z\")])\n",
    "a=set([i.split('/')[-1] for i in glob.glob(\"Data/conservative_articles/*.7z\")])"
   ]
  },
  {
   "cell_type": "code",
   "execution_count": null,
   "metadata": {},
   "outputs": [],
   "source": [
    "len(a&b), len(a&b)/len(b), len(a&b)/len(a)"
   ]
  },
  {
   "cell_type": "code",
   "execution_count": null,
   "metadata": {},
   "outputs": [],
   "source": [
    "for i in a&b:\n",
    "    os.remove('Data/conservative_articles/'+i)\n",
    "    os.remove('Data/liberal_articles/'+i)"
   ]
  },
  {
   "cell_type": "markdown",
   "metadata": {},
   "source": [
    "## Extract number of bytes"
   ]
  },
  {
   "cell_type": "code",
   "execution_count": 2,
   "metadata": {},
   "outputs": [],
   "source": [
    "def processFile(filename):\n",
    "    subprocess.call([\"7z\", \"e\", filename], stdout=open(os.devnull, 'wb'))\n",
    "    editor=defaultdict(int)\n",
    "    infile=open(filename[:-3])\n",
    "    prev = 0\n",
    "    for line in reversed(infile.readlines()):\n",
    "        row=line.split('|')\n",
    "        try:\n",
    "            curr = int(row[2].strip('()').split(' ')[0].replace(',',''))\n",
    "            editor[row[1]]+=abs(curr-prev)\n",
    "            prev = curr\n",
    "        except:\n",
    "            print (filename,row)\n",
    "    infile.close()\n",
    "    os.remove(filename[:-3])\n",
    "    return Counter(editor)\n",
    "\n",
    "def reducer(x, y):\n",
    "    return x+y"
   ]
  },
  {
   "cell_type": "markdown",
   "metadata": {},
   "source": [
    "### Liberal pages"
   ]
  },
  {
   "cell_type": "code",
   "execution_count": null,
   "metadata": {},
   "outputs": [],
   "source": [
    "pages=list(glob.glob(\"Data/liberal_articles/*.7z\"))\n",
    "pool=Pool(10)\n",
    "res=pool.map(processFile,pages)\n",
    "liberal_editor=reduce(reducer, res)\n",
    "liberal_editor=pd.DataFrame(list(liberal_editor.items()),columns=['editor', 'liberal'])"
   ]
  },
  {
   "cell_type": "markdown",
   "metadata": {},
   "source": [
    "### Conservative pages"
   ]
  },
  {
   "cell_type": "code",
   "execution_count": null,
   "metadata": {},
   "outputs": [],
   "source": [
    "pages=list(glob.glob(\"Data/conservative_articles/*.7z\"))\n",
    "pool=Pool(10)\n",
    "res=pool.map(processFile,pages)\n",
    "conservative_editor=reduce(reducer, res)\n",
    "conservative_editor=pd.DataFrame(list(conservative_editor.items()),columns=['editor', 'conservative'])"
   ]
  },
  {
   "cell_type": "markdown",
   "metadata": {},
   "source": [
    "## Alignment"
   ]
  },
  {
   "cell_type": "code",
   "execution_count": null,
   "metadata": {},
   "outputs": [],
   "source": [
    "df=pd.merge(liberal_editor,conservative_editor,how='outer',on='editor')"
   ]
  },
  {
   "cell_type": "code",
   "execution_count": null,
   "metadata": {},
   "outputs": [],
   "source": [
    "df.fillna(0,inplace=True)\n",
    "df['political']=df.conservative+df.liberal"
   ]
  },
  {
   "cell_type": "code",
   "execution_count": null,
   "metadata": {},
   "outputs": [],
   "source": [
    "aveAlign=df['conservative'].sum()/df['political'].sum()\n",
    "avePolitical=df['political'].mean()"
   ]
  },
  {
   "cell_type": "code",
   "execution_count": null,
   "metadata": {},
   "outputs": [],
   "source": [
    "df['alignment']=(df['conservative']+avePolitical*aveAlign)/(df['political']+avePolitical)\n",
    "df.loc[df['alignment']<=aveAlign,'alignment']=df['alignment'][df['alignment']<=aveAlign]/aveAlign-1\n",
    "df.loc[df['alignment']>aveAlign,'alignment']=(df['alignment'][df['alignment']>aveAlign]-aveAlign)/(1-aveAlign)"
   ]
  },
  {
   "cell_type": "code",
   "execution_count": null,
   "metadata": {},
   "outputs": [],
   "source": [
    "with open('Data/user_alignments.pkl','wb') as outfile:\n",
    "    pickle.dump(dict(df[['editor','alignment']].values.tolist()),outfile)"
   ]
  }
 ],
 "metadata": {
  "kernelspec": {
   "display_name": "Python 3",
   "language": "python",
   "name": "python3"
  },
  "language_info": {
   "codemirror_mode": {
    "name": "ipython",
    "version": 3
   },
   "file_extension": ".py",
   "mimetype": "text/x-python",
   "name": "python",
   "nbconvert_exporter": "python",
   "pygments_lexer": "ipython3",
   "version": "3.6.8"
  },
  "toc": {
   "nav_menu": {},
   "number_sections": false,
   "sideBar": true,
   "skip_h1_title": false,
   "title_cell": "Table of Contents",
   "title_sidebar": "Contents",
   "toc_cell": false,
   "toc_position": {
    "height": "calc(100% - 180px)",
    "left": "10px",
    "top": "150px",
    "width": "229px"
   },
   "toc_section_display": true,
   "toc_window_display": true
  }
 },
 "nbformat": 4,
 "nbformat_minor": 2
}
